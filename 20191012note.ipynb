{
 "cells": [
  {
   "cell_type": "markdown",
   "metadata": {},
   "source": [
    "# Pythonで楽しむ初等整数論"
   ]
  },
  {
   "cell_type": "markdown",
   "metadata": {},
   "source": [
    "## Hayao Suzuki\n",
    "\n",
    "- PyCon mini Hiroshima 2019 at Hiroshima City University\n",
    "- October 12, 2019\n",
    "- #pyconhiro"
   ]
  },
  {
   "cell_type": "markdown",
   "metadata": {},
   "source": [
    "## About Me （お前誰よ）\n",
    "\n",
    "- Name: Hayao Suzuki（鈴木　駿） (@CardinalXaro)\n",
    "- Blog: https://xaro.hatenablog.jp/\n",
    "- Major: Mathematics (Combinatorics, Number Theory)\n",
    "- Degree: 修士（工学）、電気通信大学\n",
    "- Work: Python Programmer at iRidge, Inc."
   ]
  },
  {
   "cell_type": "markdown",
   "metadata": {},
   "source": [
    "### ピタゴラス数"
   ]
  },
  {
   "cell_type": "markdown",
   "metadata": {},
   "source": [
    "$a^{2} + b^{2} = c^{2}$が成り立つ自然数の組$(a, b, c)$を **ピタゴラス数** と呼ぶ。"
   ]
  },
  {
   "cell_type": "markdown",
   "metadata": {},
   "source": [
    "### ピタゴラス数を計算しよう：根性編"
   ]
  },
  {
   "cell_type": "code",
   "execution_count": 1,
   "metadata": {},
   "outputs": [
    {
     "name": "stdout",
     "output_type": "stream",
     "text": [
      "3 4 5\n",
      "4 3 5\n",
      "5 12 13\n",
      "6 8 10\n",
      "8 6 10\n",
      "8 15 17\n",
      "9 12 15\n",
      "12 5 13\n",
      "12 9 15\n",
      "15 8 17\n"
     ]
    }
   ],
   "source": [
    "from itertools import product\n",
    "\n",
    "for a, b, c in product(range(1, 20), repeat=3):\n",
    "    if a ** 2 + b ** 2 == c ** 2:\n",
    "        print(a, b, c)"
   ]
  },
  {
   "cell_type": "markdown",
   "metadata": {},
   "source": [
    "### 既約ピタゴラス数\n",
    "\n",
    "互いに素であるピタゴラス数を**既約ピタゴラス数**と呼ぶ。"
   ]
  },
  {
   "cell_type": "markdown",
   "metadata": {},
   "source": [
    "### 既約ピタゴラス数を計算しよう\n",
    "\n",
    "- a, b, cはそれぞれ違う数である\n",
    "- a, b, c は互いに素である"
   ]
  },
  {
   "cell_type": "code",
   "execution_count": 2,
   "metadata": {},
   "outputs": [
    {
     "name": "stdout",
     "output_type": "stream",
     "text": [
      "3 4 5\n",
      "5 12 13\n",
      "7 24 25\n",
      "8 15 17\n",
      "9 40 41\n",
      "12 35 37\n",
      "20 21 29\n"
     ]
    }
   ],
   "source": [
    "from functools import reduce\n",
    "from itertools import combinations\n",
    "from math import gcd\n",
    "\n",
    "\n",
    "for a, b, c in combinations(range(1, 50), 3):\n",
    "    if a ** 2 + b ** 2 == c ** 2 and reduce(gcd, (a, b, c)) == 1:\n",
    "        print(a, b, c)"
   ]
  },
  {
   "cell_type": "markdown",
   "metadata": {},
   "source": [
    "### さらなる工夫\n",
    "\n",
    "互いに素な奇数$s, t (s > t)$対して、 $a = st, b = \\displaystyle \\frac{s^{2}-t^{2}}{2}, c = \\displaystyle \\frac{s^{2}+t^{2}}{2}$はピタゴラス数となる。"
   ]
  },
  {
   "cell_type": "code",
   "execution_count": 3,
   "metadata": {},
   "outputs": [
    {
     "name": "stdout",
     "output_type": "stream",
     "text": [
      "3 4 5\n",
      "5 12 13\n",
      "7 24 25\n",
      "9 40 41\n",
      "15 8 17\n",
      "21 20 29\n",
      "35 12 37\n",
      "45 28 53\n",
      "63 16 65\n"
     ]
    }
   ],
   "source": [
    "from itertools import combinations\n",
    "from math import gcd\n",
    "\n",
    "for t, s in filter(lambda x: gcd(*x) == 1, combinations(range(1, 10, 2), r=2)):\n",
    "    print(s * t, int((s**2 - t**2) / 2), int((s**2 + t**2) / 2))"
   ]
  },
  {
   "cell_type": "markdown",
   "metadata": {},
   "source": [
    "### 2個の平方数の和で表せる素数"
   ]
  },
  {
   "cell_type": "markdown",
   "metadata": {},
   "source": [
    "奇素数$p$が2つの平方数の和で表せることの必要十分条件は $p \\equiv 1 \\pmod{4}$ である。"
   ]
  },
  {
   "cell_type": "code",
   "execution_count": 4,
   "metadata": {},
   "outputs": [],
   "source": [
    "from random import randint\n",
    "from sympy.ntheory import isprime, legendre_symbol\n",
    "from sympy.ntheory.modular import solve_congruence\n",
    "\n",
    "\n",
    "def solve_quadratic(p):\n",
    "    \"\"\"x^2 \\equiv -1 (mod p)の解を計算する\"\"\"\n",
    "    if not (isprime(p) and p % 4 == 1):\n",
    "        raise ValueError(f\"{p}は4を法として1と合同な素数である必要があります。\")\n",
    "    while True:\n",
    "        a = randint(1, p - 1)\n",
    "        b = pow(a, (p - 1) // 4, p)\n",
    "        if legendre_symbol(a, p) == -1 and 1 <= b < p:\n",
    "            return b\n",
    "\n",
    "\n",
    "def sums_of_two_squares(p):\n",
    "    \"\"\"4を法として1と合同な素数を2つの平方数の和で表す\"\"\"\n",
    "\n",
    "    if not (isprime(p) and p % 4 == 1):\n",
    "        raise ValueError(f\"{p}は4を法として1と合同な素数である必要があります。\")\n",
    "            \n",
    "    A, B = solve_quadratic(p), 1\n",
    "    M = divmod(A ** 2 + B ** 2, p)[0]\n",
    "    if M == 1:\n",
    "        print(f\"${A}^2 + {B}^2={p}$\")\n",
    "        return\n",
    "    \n",
    "    while True:\n",
    "        \n",
    "        assert M < p\n",
    "        assert A ** 2 + B ** 2 == M * p\n",
    "\n",
    "        u = solve_congruence((A, M), symmetric=True)[0]\n",
    "        v = solve_congruence((B, M), symmetric=True)[0]\n",
    "        assert -0.5 * M <= u <= 0.5 * M\n",
    "        assert -0.5 * M <= v <= 0.5 * M\n",
    "\n",
    "        r = divmod(u ** 2 + v ** 2, M)[0]\n",
    "        assert r < M\n",
    "        assert (u * A + v * B) % M == 0\n",
    "        assert (v * A - u * B) % M == 0\n",
    "        s = abs((u * A + v * B) // M)\n",
    "        t = abs((v * A - u * B) // M)\n",
    "        \n",
    "        if r == 1:\n",
    "            assert s**2 + t**2 == p\n",
    "            print(f\"${s}^2 + {t}^2={p}$\")\n",
    "            return\n",
    "        else:\n",
    "            A, B, M = s, t, r"
   ]
  },
  {
   "cell_type": "code",
   "execution_count": 5,
   "metadata": {},
   "outputs": [
    {
     "name": "stdout",
     "output_type": "stream",
     "text": [
      "$2^2 + 1^2=5$\n",
      "$3^2 + 2^2=13$\n",
      "$4^2 + 1^2=17$\n",
      "$5^2 + 2^2=29$\n",
      "$6^2 + 1^2=37$\n",
      "$5^2 + 4^2=41$\n",
      "$7^2 + 2^2=53$\n",
      "$6^2 + 5^2=61$\n",
      "$3^2 + 8^2=73$\n",
      "$8^2 + 5^2=89$\n",
      "$9^2 + 4^2=97$\n"
     ]
    }
   ],
   "source": [
    "from sympy import primerange\n",
    "\n",
    "primes_1_mod_4 = (p for p in primerange(1, 100) if p % 4 == 1)\n",
    "\n",
    "for p in primes_1_mod_4:\n",
    "    sums_of_two_squares(p)"
   ]
  }
 ],
 "metadata": {
  "kernelspec": {
   "display_name": "Python 3",
   "language": "python",
   "name": "python3"
  },
  "language_info": {
   "codemirror_mode": {
    "name": "ipython",
    "version": 3
   },
   "file_extension": ".py",
   "mimetype": "text/x-python",
   "name": "python",
   "nbconvert_exporter": "python",
   "pygments_lexer": "ipython3",
   "version": "3.7.3"
  }
 },
 "nbformat": 4,
 "nbformat_minor": 2
}
