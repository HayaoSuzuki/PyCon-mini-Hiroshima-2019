{
 "cells": [
  {
   "cell_type": "markdown",
   "metadata": {},
   "source": [
    "# Elementary Number Theory with Python（Pythonで楽しむ初等整数論）"
   ]
  },
  {
   "cell_type": "markdown",
   "metadata": {},
   "source": [
    "## Hayao Suzuki\n",
    "\n",
    "- PyCon mini Hiroshima 2019 at Hiroshima City University\n",
    "- October 12, 2019\n",
    "- #pyconhiro"
   ]
  },
  {
   "cell_type": "markdown",
   "metadata": {},
   "source": [
    "## About Me （お前誰よ）\n",
    "\n",
    "- Name: Hayao Suzuki（鈴木　駿） (@CardinalXaro)\n",
    "- Blog: https://xaro.hatenablog.jp/\n",
    "- Major: Mathematics (Combinatorics, Number Theory)\n",
    "- Degree: 修士（工学）、電気通信大学\n",
    "- Work: Python Programmer at iRidge, Inc."
   ]
  },
  {
   "cell_type": "markdown",
   "metadata": {},
   "source": [
    "## Reviewed Technical Books\n",
    "\n",
    "- 『[**Effective Python**](https://www.oreilly.co.jp/books/9784873117560/)』オライリージャパン 2016年1月\n",
    "- 『[**アルゴリズムクイックリファレンス 第2版**](https://www.oreilly.co.jp/books/9784873117850/)』オライリージャパン 2016年12月\n",
    "- 『[**初めてのPHP**](https://www.oreilly.co.jp/books/9784873117935/)』オライリージャパン 2017年3月\n",
    "- 『[**Effective Debugging**](https://www.oreilly.co.jp/books/9784873117997/)』オライリージャパン 2017年6月\n",
    "- 『[**スラスラわかるPython**](http://www.shoeisha.co.jp/book/detail/9784798151090)』翔泳社 2017年8月\n",
    "- 『[**PythonとJavaScriptではじめるデータビジュアライゼーション**](https://www.oreilly.co.jp/books/9784873118086/)』オライリージャパン 2017年8月\n",
    "- 『[**初めてのPerl 第7版**](https://www.oreilly.co.jp/books/9784873118246/)』オライリージャパン 2018年1月\n",
    "- 『[**Head First Python 第2版**](https://www.oreilly.co.jp/books/9784873118291/)』オライリージャパン 2018年3月\n",
    "- 『[**Pythonデータサイエンスハンドブック**](https://www.oreilly.co.jp/books/9784873118413/)』オライリージャパン 2018年5月\n",
    "- 『[**Pythonによるデータ分析入門 第2版**](https://www.oreilly.co.jp/books/9784873118451/)』オライリージャパン 2018年7月\n",
    "- 『[**Pythonによるあたらしいデータ分析の教科書**](https://www.shoeisha.co.jp/book/detail/9784798158341)』翔泳社 2018年9月\n",
    "- 『[**問題解決のPythonプログラミング**](https://www.oreilly.co.jp/books/9784873118512/)』オライリージャパン 2018年9月\n",
    "- 『[**エレガントなSciPy**](https://www.oreilly.co.jp/books/9784873118604/)』オライリージャパン 2018年11月\n",
    "- 『[**Python機械学習クックブック**](https://www.oreilly.co.jp/books/9784873118673/)』オライリージャパン 2018年12月\n",
    "- 『[**pandasクックブック**](http://www.asakura.co.jp/books/isbn/978-4-254-12242-8/)』朝倉書店 2019年2月\n",
    "- 『[**PythonによるWebスクレイピング 第2版**](https://www.oreilly.co.jp/books/9784873118710/)』オライリージャパン 2019年3月\n",
    "- 『[**Head First はじめてのプログラミング**](https://www.oreilly.co.jp/books/9784873118741/)』オライリージャパン 2019年4月\n",
    "- 『[**できる 仕事がはかどるPython自動処理 全部入り。**](https://book.impress.co.jp/books/1118101147)』インプレス 2019年5月\n",
    "- 『[**IPythonデータサイエンスクックブック 第2版**](https://www.oreilly.co.jp/books/9784873118543/)』オライリージャパン 2019年5月\n",
    "- 『[**Python計算機科学新教本**](https://www.oreilly.co.jp/books/9784873118819/)』オライリージャパン 2019年6月\n"
   ]
  },
  {
   "cell_type": "markdown",
   "metadata": {},
   "source": [
    "## We will talk about"
   ]
  },
  {
   "cell_type": "markdown",
   "metadata": {},
   "source": [
    "### ユークリッドの互除法\n",
    "\n",
    "整数$a, b$において、$a$を$b$で割ったあまりを$r$とすると、$a,b$の最大公約数は$b, r$の最大公約数に等しい。"
   ]
  },
  {
   "cell_type": "code",
   "execution_count": 1,
   "metadata": {},
   "outputs": [
    {
     "data": {
      "text/plain": [
       "21"
      ]
     },
     "execution_count": 1,
     "metadata": {},
     "output_type": "execute_result"
    }
   ],
   "source": [
    "def my_gcd(a: int, b: int):\n",
    "    \"\"\"定理のステートメントから実装する\"\"\"\n",
    "    if a < b:\n",
    "        a, b = b, a\n",
    "    while b != 0:\n",
    "        a, b = b, a % b\n",
    "    return a\n",
    "\n",
    "my_gcd(1071, 1029)"
   ]
  },
  {
   "cell_type": "code",
   "execution_count": 2,
   "metadata": {},
   "outputs": [
    {
     "data": {
      "text/plain": [
       "21"
      ]
     },
     "execution_count": 2,
     "metadata": {},
     "output_type": "execute_result"
    }
   ],
   "source": [
    "def my_gcd_recursive(a: int, b: int):\n",
    "    \"\"\"再帰版\"\"\"\n",
    "    if a < b:\n",
    "        return my_gcd_recursive(b, a)\n",
    "    if b == 0:\n",
    "        return a\n",
    "    else:\n",
    "        return my_gcd_recursive(b, a % b)\n",
    "    \n",
    "\n",
    "my_gcd_recursive(1071, 1029)"
   ]
  },
  {
   "cell_type": "markdown",
   "metadata": {},
   "source": [
    "### ピタゴラスの定理"
   ]
  },
  {
   "cell_type": "markdown",
   "metadata": {},
   "source": [
    "直角三角形の斜辺の長さを$c$とし、それ以外の辺の長さを$a, b$とする。\n",
    "そのとき、\n",
    "\n",
    "\\begin{equation}\n",
    "a^{2} + b^{2} = c^{2}\n",
    "\\end{equation}\n",
    "\n",
    "が成り立つ。"
   ]
  },
  {
   "cell_type": "markdown",
   "metadata": {},
   "source": [
    "### ピタゴラス数"
   ]
  },
  {
   "cell_type": "markdown",
   "metadata": {},
   "source": [
    "$a^{2} + b^{2} = c^{2}$が成り立つ自然数の組$(a, b, c)$を **ピタゴラス数** と呼ぶ。"
   ]
  },
  {
   "cell_type": "markdown",
   "metadata": {},
   "source": [
    "### ピタゴラス数を計算しよう：根性編"
   ]
  },
  {
   "cell_type": "code",
   "execution_count": 3,
   "metadata": {},
   "outputs": [
    {
     "name": "stdout",
     "output_type": "stream",
     "text": [
      "3 4 5\n",
      "4 3 5\n",
      "5 12 13\n",
      "6 8 10\n",
      "8 6 10\n",
      "8 15 17\n",
      "9 12 15\n",
      "12 5 13\n",
      "12 9 15\n",
      "15 8 17\n"
     ]
    }
   ],
   "source": [
    "from itertools import product\n",
    "\n",
    "for a, b, c in product(range(1, 20), repeat=3):\n",
    "    if a ** 2 + b ** 2 == c ** 2:\n",
    "        print(a, b, c)"
   ]
  },
  {
   "cell_type": "markdown",
   "metadata": {},
   "source": [
    "### 原始ピタゴラス数\n",
    "\n",
    "自然数の組$(a, b, c)$がピタゴラス数ならば、任意の自然数$n$に対して$(na, nb, nc)$もまたピタゴラス数である（証明せよ！）。\n",
    "\n",
    "互いに素であるピタゴラス数を**原始ピタゴラス数**と呼ぶ。"
   ]
  },
  {
   "cell_type": "markdown",
   "metadata": {},
   "source": [
    "### 原始ピタゴラス数を計算しよう\n",
    "\n",
    "- a, b, cはそれぞれ違う数である\n",
    "- a, b, c は互いに素である"
   ]
  },
  {
   "cell_type": "code",
   "execution_count": 4,
   "metadata": {},
   "outputs": [
    {
     "name": "stdout",
     "output_type": "stream",
     "text": [
      "3 4 5\n",
      "5 12 13\n",
      "7 24 25\n",
      "8 15 17\n",
      "9 40 41\n",
      "12 35 37\n",
      "20 21 29\n"
     ]
    }
   ],
   "source": [
    "from functools import reduce\n",
    "from itertools import combinations\n",
    "from math import gcd\n",
    "\n",
    "\n",
    "for a, b, c in combinations(range(1, 50), 3):\n",
    "    if a ** 2 + b ** 2 == c ** 2 and reduce(gcd, (a, b, c)) == 1:\n",
    "        print(a, b, c)"
   ]
  },
  {
   "cell_type": "markdown",
   "metadata": {},
   "source": [
    "### さらなる工夫\n",
    "\n",
    "互いに素な奇数$s, t (s > t)$対して、 $a = st, b = \\displaystyle \\frac{s^{2}-t^{2}}{2}, c = \\displaystyle \\frac{s^{2}+t^{2}}{2}$はピタゴラス数となる。"
   ]
  },
  {
   "cell_type": "code",
   "execution_count": 5,
   "metadata": {},
   "outputs": [
    {
     "name": "stdout",
     "output_type": "stream",
     "text": [
      "3 4 5\n",
      "5 12 13\n",
      "7 24 25\n",
      "9 40 41\n",
      "15 8 17\n",
      "21 20 29\n",
      "35 12 37\n",
      "45 28 53\n",
      "63 16 65\n"
     ]
    }
   ],
   "source": [
    "from itertools import combinations\n",
    "from math import gcd\n",
    "\n",
    "for t, s in filter(lambda x: gcd(*x) == 1, combinations(range(1, 10, 2), r=2)):\n",
    "    print(s * t, int((s**2 - t**2) / 2), int((s**2 + t**2) / 2))"
   ]
  },
  {
   "cell_type": "markdown",
   "metadata": {},
   "source": [
    "### 計算時間を比較してみよう"
   ]
  },
  {
   "cell_type": "code",
   "execution_count": 6,
   "metadata": {},
   "outputs": [
    {
     "name": "stdout",
     "output_type": "stream",
     "text": [
      "94.7 ms ± 5.97 ms per loop (mean ± std. dev. of 7 runs, 10 loops each)\n",
      "14.6 ms ± 762 µs per loop (mean ± std. dev. of 7 runs, 100 loops each)\n"
     ]
    }
   ],
   "source": [
    "def pythagorean_triple(n: int):\n",
    "    \"\"\"根性で計算\"\"\"\n",
    "    for a, b, c in product(range(1, n), repeat=3):\n",
    "        if a ** 2 + b ** 2 == c ** 2:\n",
    "            yield a, b, c\n",
    "            \n",
    "def primitive_pythagorean_triple(n: int):\n",
    "    \"\"\"少し工夫をする\"\"\"\n",
    "    for a, b, c in combinations(range(1, 50), 3):\n",
    "        if a ** 2 + b ** 2 == c ** 2 and reduce(gcd, (a, b, c)) == 1:\n",
    "            yield a, b, c\n",
    "    \n",
    "    \n",
    "%timeit tuple((a, b, c) for a, b, c in pythagorean_triple(50))\n",
    "\n",
    "%timeit tuple((a, b, c) for a, b, c in primitive_pythagorean_triple(50))"
   ]
  },
  {
   "cell_type": "markdown",
   "metadata": {},
   "source": [
    "### ユークリッドの定理（素数）\n",
    "\n",
    "素数は無限に存在する。"
   ]
  },
  {
   "cell_type": "markdown",
   "metadata": {},
   "source": [
    "### 証明\n",
    "\n",
    "素数は有限個あると仮定し、それを$p_{1}, p_{2}, \\dots,  p_{n}$とする。\n",
    "また、$P = \\displaystyle \\prod^{n}_{i=1}p_{i} + 1$とする。\n",
    "このとき、$P$は素数が合成数のいずれかである。\n",
    "$P$が素数の場合、定義から$P$は$p_{1}, p_{2}, \\dots,  p_{n}$のいずれよりも大きい素数である。\n",
    "$P$が合成数である場合、ある素数$q$で割り切れるが、$P$の定義から$P$は$p_{1}, p_{2}, \\dots,  p_{n}$で割り切れるので$P+1$を割り切ることができない。よって$q$は$p_{1}, p_{2}, \\dots,  p_{n}$とは異なる素数である。\n",
    "よって、$P$が素数、合成数のいずれであっても$p_{1}, p_{2}, \\dots,  p_{n}$とは異なる新たなる素数が得られる。\n",
    "以上より、素数は無限に存在する。"
   ]
  },
  {
   "cell_type": "markdown",
   "metadata": {},
   "source": [
    "### 証明から素数を作ってみよう"
   ]
  },
  {
   "cell_type": "code",
   "execution_count": 7,
   "metadata": {},
   "outputs": [
    {
     "name": "stdout",
     "output_type": "stream",
     "text": [
      "primes from proof: [2, 3, 7, 43, 13, 53, 5, 6221671, 38709183810571, 139, 2801]\n"
     ]
    }
   ],
   "source": [
    "from sympy import prod\n",
    "from sympy.ntheory import factorint, isprime\n",
    "\n",
    "primes = [2]\n",
    "\n",
    "for _ in range(10):\n",
    "    P = prod(primes) + 1\n",
    "    if isprime(P):\n",
    "        primes.append(P)\n",
    "    else:\n",
    "        new_prime = min(set(factorint(P, multiple=True)))\n",
    "        primes.append(new_prime)\n",
    "else:\n",
    "    print(f\"primes from proof: {primes}\")"
   ]
  },
  {
   "cell_type": "code",
   "execution_count": 8,
   "metadata": {},
   "outputs": [
    {
     "name": "stdout",
     "output_type": "stream",
     "text": [
      "[7, 31, 67, 19, 179, 197788559]\n"
     ]
    }
   ],
   "source": [
    "from sympy import prod\n",
    "from sympy.ntheory import factorint, isprime\n",
    "\n",
    "primes = [7]\n",
    "\n",
    "for _ in range(5):\n",
    "    P = 4 * prod(primes) + 3\n",
    "    if isprime(P):\n",
    "        primes.append(P)\n",
    "    else:\n",
    "        new_prime = min(p for p in factorint(P, multiple=True) if p % 4 == 3)\n",
    "        primes.append(new_prime)\n",
    "print(primes)"
   ]
  },
  {
   "cell_type": "markdown",
   "metadata": {},
   "source": [
    "### ピタゴラス数ふたたび\n",
    "\n",
    "$a^{2} + b^{2} = c^{2}$が成り立つ自然数の組$(a, b, c)$を **ピタゴラス数** と呼ぶ。（復習）\n",
    "\n",
    "$c$が素数であるケースを調べてみよう。"
   ]
  },
  {
   "cell_type": "code",
   "execution_count": 9,
   "metadata": {},
   "outputs": [
    {
     "name": "stdout",
     "output_type": "stream",
     "text": [
      "5 を4で割った余りは1\n",
      "13 を4で割った余りは1\n",
      "17 を4で割った余りは1\n",
      "41 を4で割った余りは1\n",
      "61 を4で割った余りは1\n",
      "37 を4で割った余りは1\n",
      "29 を4で割った余りは1\n",
      "53 を4で割った余りは1\n",
      "89 を4で割った余りは1\n",
      "73 を4で割った余りは1\n",
      "97 を4で割った余りは1\n"
     ]
    }
   ],
   "source": [
    "for a, b, c in combinations(range(1, 100), 3):\n",
    "    if a ** 2 + b ** 2 == c ** 2 and reduce(gcd, (a, b, c)) == 1 and isprime(c):\n",
    "        print(f\"{c} を4で割った余りは{c % 4}\")"
   ]
  },
  {
   "cell_type": "code",
   "execution_count": 10,
   "metadata": {},
   "outputs": [
    {
     "name": "stdout",
     "output_type": "stream",
     "text": [
      "5 を4で割った余りは1\n",
      "13 を4で割った余りは1\n",
      "25 を4で割った余りは1\n",
      "41 を4で割った余りは1\n",
      "17 を4で割った余りは1\n",
      "29 を4で割った余りは1\n",
      "37 を4で割った余りは1\n",
      "53 を4で割った余りは1\n",
      "65 を4で割った余りは1\n"
     ]
    }
   ],
   "source": [
    "from itertools import combinations\n",
    "from math import gcd\n",
    "\n",
    "for t, s in filter(lambda x: gcd(*x) == 1, combinations(range(1, 10, 2), r=2)):\n",
    "    c = int((s**2 + t**2) / 2)\n",
    "    print(f\"{c} を4で割った余りは{c % 4}\")"
   ]
  },
  {
   "cell_type": "markdown",
   "metadata": {},
   "source": [
    "## これって、トリビアの種になりませんかね？"
   ]
  },
  {
   "cell_type": "markdown",
   "metadata": {},
   "source": [
    "### 2個の平方数の和で表せる素数"
   ]
  },
  {
   "cell_type": "code",
   "execution_count": 13,
   "metadata": {},
   "outputs": [],
   "source": [
    "from random import randint\n",
    "from sympy.ntheory import isprime, legendre_symbol\n",
    "from sympy.ntheory.modular import solve_congruence\n",
    "\n",
    "\n",
    "def solve_quadratic(p):\n",
    "    \"\"\"x^2 \\equiv -1 (mod p)の解を計算する\"\"\"\n",
    "    if not (isprime(p) and p % 4 == 1):\n",
    "        raise ValueError(f\"{p}は4を法として1と合同な素数である必要があります。\")\n",
    "    while True:\n",
    "        a = randint(1, p - 1)\n",
    "        b = pow(a, (p - 1) // 4, p)\n",
    "        if legendre_symbol(a, p) == -1 and 1 <= b < p:\n",
    "            return b\n",
    "\n",
    "\n",
    "def sums_of_two_squares(p):\n",
    "    \"\"\"4を法として1と合同な素数を2つの平方数の和で表す\"\"\"\n",
    "\n",
    "    if not (isprime(p) and p % 4 == 1):\n",
    "        raise ValueError(f\"{p}は4を法として1と合同な素数である必要があります。\")\n",
    "            \n",
    "    A, B = solve_quadratic(p), 1\n",
    "    M = divmod(A ** 2 + B ** 2, p)[0]\n",
    "    if M == 1:\n",
    "        print(f\"${A}^2 + {B}^2={p}$\")\n",
    "        return\n",
    "    \n",
    "    while True:\n",
    "        \n",
    "        assert M < p\n",
    "        assert A ** 2 + B ** 2 == M * p\n",
    "\n",
    "        u = solve_congruence((A, M), symmetric=True)[0]\n",
    "        v = solve_congruence((B, M), symmetric=True)[0]\n",
    "        assert -0.5 * M <= u <= 0.5 * M\n",
    "        assert -0.5 * M <= v <= 0.5 * M\n",
    "\n",
    "        r = divmod(u ** 2 + v ** 2, M)[0]\n",
    "        assert r < M\n",
    "        assert (u * A + v * B) % M == 0\n",
    "        assert (v * A - u * B) % M == 0\n",
    "        s = abs((u * A + v * B) // M)\n",
    "        t = abs((v * A - u * B) // M)\n",
    "        \n",
    "        if r == 1:\n",
    "            assert s**2 + t**2 == p\n",
    "            print(f\"${s}^2 + {t}^2={p}$\")\n",
    "            return\n",
    "        else:\n",
    "            A, B, M = s, t, r"
   ]
  },
  {
   "cell_type": "code",
   "execution_count": 14,
   "metadata": {},
   "outputs": [
    {
     "name": "stdout",
     "output_type": "stream",
     "text": [
      "$2^2 + 1^2=5$\n",
      "$3^2 + 2^2=13$\n",
      "$4^2 + 1^2=17$\n",
      "$5^2 + 2^2=29$\n",
      "$6^2 + 1^2=37$\n",
      "$5^2 + 4^2=41$\n",
      "$7^2 + 2^2=53$\n",
      "$6^2 + 5^2=61$\n",
      "$8^2 + 3^2=73$\n",
      "$5^2 + 8^2=89$\n",
      "$9^2 + 4^2=97$\n"
     ]
    }
   ],
   "source": [
    "from sympy import primerange\n",
    "\n",
    "primes_1_mod_4 = (p for p in primerange(1, 100) if p % 4 == 1)\n",
    "\n",
    "for p in primes_1_mod_4:\n",
    "    sums_of_two_squares(p)"
   ]
  },
  {
   "cell_type": "markdown",
   "metadata": {},
   "source": [
    "### Dirichletの算術級数定理"
   ]
  },
  {
   "cell_type": "markdown",
   "metadata": {},
   "source": [
    " ## Summary"
   ]
  }
 ],
 "metadata": {
  "kernelspec": {
   "display_name": "Python 3",
   "language": "python",
   "name": "python3"
  },
  "language_info": {
   "codemirror_mode": {
    "name": "ipython",
    "version": 3
   },
   "file_extension": ".py",
   "mimetype": "text/x-python",
   "name": "python",
   "nbconvert_exporter": "python",
   "pygments_lexer": "ipython3",
   "version": "3.7.3"
  }
 },
 "nbformat": 4,
 "nbformat_minor": 2
}
