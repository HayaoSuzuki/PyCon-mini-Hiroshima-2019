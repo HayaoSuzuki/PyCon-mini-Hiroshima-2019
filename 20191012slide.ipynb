{
 "cells": [
  {
   "cell_type": "markdown",
   "metadata": {},
   "source": [
    "# Elementary Number Theory with Python（Pythonで楽しむ初等整数論）"
   ]
  },
  {
   "cell_type": "markdown",
   "metadata": {},
   "source": [
    "## Hayao Suzuki\n",
    "\n",
    "- PyCon mini Hiroshima 2019 at Hiroshima City University\n",
    "- October 12, 2019\n",
    "- #pyconhiro"
   ]
  },
  {
   "cell_type": "markdown",
   "metadata": {},
   "source": [
    "## About Me （お前誰よ）\n",
    "\n",
    "- Name: Hayao Suzuki（鈴木　駿） (@CardinalXaro)\n",
    "- Blog: https://xaro.hatenablog.jp/\n",
    "- Major: Mathematics (Combinatorics, Number Theory)\n",
    "- Degree: 修士（工学）、電気通信大学\n",
    "- Work: Python Programmer at iRidge, Inc."
   ]
  },
  {
   "cell_type": "markdown",
   "metadata": {},
   "source": [
    "## Reviewed Technical Books\n",
    "\n",
    "- 『[**Effective Python**](https://www.oreilly.co.jp/books/9784873117560/)』オライリージャパン 2016年1月\n",
    "- 『[**アルゴリズムクイックリファレンス 第2版**](https://www.oreilly.co.jp/books/9784873117850/)』オライリージャパン 2016年12月\n",
    "- 『[**初めてのPHP**](https://www.oreilly.co.jp/books/9784873117935/)』オライリージャパン 2017年3月\n",
    "- 『[**Effective Debugging**](https://www.oreilly.co.jp/books/9784873117997/)』オライリージャパン 2017年6月\n",
    "- 『[**スラスラわかるPython**](http://www.shoeisha.co.jp/book/detail/9784798151090)』翔泳社 2017年8月\n",
    "- 『[**PythonとJavaScriptではじめるデータビジュアライゼーション**](https://www.oreilly.co.jp/books/9784873118086/)』オライリージャパン 2017年8月\n",
    "- 『[**初めてのPerl 第7版**](https://www.oreilly.co.jp/books/9784873118246/)』オライリージャパン 2018年1月\n",
    "- 『[**Head First Python 第2版**](https://www.oreilly.co.jp/books/9784873118291/)』オライリージャパン 2018年3月\n",
    "- 『[**Pythonデータサイエンスハンドブック**](https://www.oreilly.co.jp/books/9784873118413/)』オライリージャパン 2018年5月\n",
    "- 『[**Pythonによるデータ分析入門 第2版**](https://www.oreilly.co.jp/books/9784873118451/)』オライリージャパン 2018年7月\n",
    "- 『[**Pythonによるあたらしいデータ分析の教科書**](https://www.shoeisha.co.jp/book/detail/9784798158341)』翔泳社 2018年9月\n",
    "- 『[**問題解決のPythonプログラミング**](https://www.oreilly.co.jp/books/9784873118512/)』オライリージャパン 2018年9月\n",
    "- 『[**エレガントなSciPy**](https://www.oreilly.co.jp/books/9784873118604/)』オライリージャパン 2018年11月\n",
    "- 『[**Python機械学習クックブック**](https://www.oreilly.co.jp/books/9784873118673/)』オライリージャパン 2018年12月\n",
    "- 『[**pandasクックブック**](http://www.asakura.co.jp/books/isbn/978-4-254-12242-8/)』朝倉書店 2019年2月\n",
    "- 『[**PythonによるWebスクレイピング 第2版**](https://www.oreilly.co.jp/books/9784873118710/)』オライリージャパン 2019年3月\n",
    "- 『[**Head First はじめてのプログラミング**](https://www.oreilly.co.jp/books/9784873118741/)』オライリージャパン 2019年4月\n",
    "- 『[**できる 仕事がはかどるPython自動処理 全部入り。**](https://book.impress.co.jp/books/1118101147)』インプレス 2019年5月\n",
    "- 『[**IPythonデータサイエンスクックブック 第2版**](https://www.oreilly.co.jp/books/9784873118543/)』オライリージャパン 2019年5月\n",
    "- 『[**Python計算機科学新教本**](https://www.oreilly.co.jp/books/9784873118819/)』オライリージャパン 2019年6月\n"
   ]
  },
  {
   "cell_type": "markdown",
   "metadata": {},
   "source": [
    "## We will talk about"
   ]
  },
  {
   "cell_type": "markdown",
   "metadata": {},
   "source": [
    "## 定理の結果から計算する"
   ]
  },
  {
   "cell_type": "markdown",
   "metadata": {},
   "source": [
    "### ピタゴラスの定理"
   ]
  },
  {
   "cell_type": "markdown",
   "metadata": {},
   "source": [
    "直角三角形の斜辺の長さを$c$とし、それ以外の辺の長さを$a, b$とする。\n",
    "そのとき、\n",
    "\n",
    "\\begin{equation}\n",
    "a^{2} + b^{2} = c^{2}\n",
    "\\end{equation}\n",
    "\n",
    "が成り立つ。"
   ]
  },
  {
   "cell_type": "markdown",
   "metadata": {},
   "source": [
    "### ピタゴラス数"
   ]
  },
  {
   "cell_type": "markdown",
   "metadata": {},
   "source": [
    "$a^{2} + b^{2} = c^{2}$が成り立つ自然数の組$(a, b, c)$を **ピタゴラス数** と呼ぶ。"
   ]
  },
  {
   "cell_type": "markdown",
   "metadata": {},
   "source": [
    "### ピタゴラス数を計算しよう：根性編"
   ]
  },
  {
   "cell_type": "code",
   "execution_count": 1,
   "metadata": {},
   "outputs": [
    {
     "name": "stdout",
     "output_type": "stream",
     "text": [
      "3 4 5\n",
      "4 3 5\n",
      "5 12 13\n",
      "6 8 10\n",
      "8 6 10\n",
      "8 15 17\n",
      "9 12 15\n",
      "12 5 13\n",
      "12 9 15\n",
      "15 8 17\n"
     ]
    }
   ],
   "source": [
    "from itertools import product\n",
    "\n",
    "for a, b, c in product(range(1, 20), repeat=3):\n",
    "    if a ** 2 + b ** 2 == c ** 2:\n",
    "        print(a, b, c)"
   ]
  },
  {
   "cell_type": "markdown",
   "metadata": {},
   "source": [
    "### 原始ピタゴラス数\n",
    "\n",
    "自然数の組$(a, b, c)$がピタゴラス数ならば、任意の自然数$n$に対して$(na, nb, nc)$もまたピタゴラス数である（証明せよ！）。\n",
    "\n",
    "互いに素であるピタゴラス数を**原始ピタゴラス数**と呼ぶ。"
   ]
  },
  {
   "cell_type": "markdown",
   "metadata": {},
   "source": [
    "### 原始ピタゴラス数を計算しよう\n",
    "\n",
    "- a, b, cはそれぞれ違う数である\n",
    "- a, b, c は互いに素である"
   ]
  },
  {
   "cell_type": "code",
   "execution_count": 2,
   "metadata": {},
   "outputs": [
    {
     "name": "stdout",
     "output_type": "stream",
     "text": [
      "3 4 5\n",
      "5 12 13\n",
      "8 15 17\n"
     ]
    }
   ],
   "source": [
    "from functools import reduce\n",
    "from itertools import combinations\n",
    "from math import gcd\n",
    "\n",
    "\n",
    "for a, b, c in combinations(range(1, 20), 3):\n",
    "    if a ** 2 + b ** 2 == c ** 2 and reduce(gcd, (a, b, c)) == 1:\n",
    "        print(a, b, c)"
   ]
  },
  {
   "cell_type": "markdown",
   "metadata": {},
   "source": [
    "### 計算時間を比較してみよう"
   ]
  },
  {
   "cell_type": "code",
   "execution_count": 3,
   "metadata": {},
   "outputs": [
    {
     "name": "stdout",
     "output_type": "stream",
     "text": [
      "86.7 ms ± 3.33 ms per loop (mean ± std. dev. of 7 runs, 10 loops each)\n",
      "14 ms ± 431 µs per loop (mean ± std. dev. of 7 runs, 100 loops each)\n"
     ]
    }
   ],
   "source": [
    "def pythagorean_triple(n: int):\n",
    "    \"\"\"根性で計算\"\"\"\n",
    "    for a, b, c in product(range(1, n), repeat=3):\n",
    "        if a ** 2 + b ** 2 == c ** 2:\n",
    "            yield a, b, c\n",
    "            \n",
    "def primitive_pythagorean_triple(n: int):\n",
    "    \"\"\"少し工夫をする\"\"\"\n",
    "    for a, b, c in combinations(range(1, 50), 3):\n",
    "        if a ** 2 + b ** 2 == c ** 2 and reduce(gcd, (a, b, c)) == 1:\n",
    "            yield a, b, c\n",
    "    \n",
    "    \n",
    "%timeit tuple((a, b, c) for a, b, c in pythagorean_triple(50))\n",
    "\n",
    "%timeit tuple((a, b, c) for a, b, c in primitive_pythagorean_triple(50))"
   ]
  },
  {
   "cell_type": "markdown",
   "metadata": {},
   "source": [
    "## 定理の証明から計算する"
   ]
  },
  {
   "cell_type": "markdown",
   "metadata": {},
   "source": [
    "### Euclidean Algorithm"
   ]
  },
  {
   "cell_type": "markdown",
   "metadata": {},
   "source": [
    "### Euclid's theorem"
   ]
  },
  {
   "cell_type": "markdown",
   "metadata": {},
   "source": [
    "### Dirichlet's theorem on arithmetic progressions"
   ]
  },
  {
   "cell_type": "markdown",
   "metadata": {},
   "source": [
    " ## Summary"
   ]
  }
 ],
 "metadata": {
  "kernelspec": {
   "display_name": "Python 3",
   "language": "python",
   "name": "python3"
  },
  "language_info": {
   "codemirror_mode": {
    "name": "ipython",
    "version": 3
   },
   "file_extension": ".py",
   "mimetype": "text/x-python",
   "name": "python",
   "nbconvert_exporter": "python",
   "pygments_lexer": "ipython3",
   "version": "3.7.3"
  }
 },
 "nbformat": 4,
 "nbformat_minor": 2
}
