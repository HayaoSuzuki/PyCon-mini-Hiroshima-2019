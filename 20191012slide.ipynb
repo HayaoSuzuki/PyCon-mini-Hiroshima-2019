{
 "cells": [
  {
   "cell_type": "markdown",
   "metadata": {},
   "source": [
    "# Elementary Number Theory with Python（Pythonで楽しむ初等整数論）"
   ]
  },
  {
   "cell_type": "markdown",
   "metadata": {},
   "source": [
    "## Hayao Suzuki\n",
    "\n",
    "- PyCon mini Hiroshima 2019 at Hiroshima City University\n",
    "- October 12, 2019\n",
    "- #pyconhiro"
   ]
  },
  {
   "cell_type": "markdown",
   "metadata": {},
   "source": [
    "## About Me （お前誰よ）\n",
    "\n",
    "- Name: Hayao Suzuki（鈴木　駿） (@CardinalXaro)\n",
    "- Blog: https://xaro.hatenablog.jp/\n",
    "- Major: Mathematics (Combinatorics, Number Theory)\n",
    "- Degree: 修士（工学）、電気通信大学\n",
    "- Work: Python Programmer at iRidge, Inc."
   ]
  },
  {
   "cell_type": "markdown",
   "metadata": {},
   "source": [
    "## Reviewed Technical Books\n",
    "\n",
    "- 『[**Effective Python**](https://www.oreilly.co.jp/books/9784873117560/)』オライリージャパン 2016年1月\n",
    "- 『[**アルゴリズムクイックリファレンス 第2版**](https://www.oreilly.co.jp/books/9784873117850/)』オライリージャパン 2016年12月\n",
    "- 『[**初めてのPHP**](https://www.oreilly.co.jp/books/9784873117935/)』オライリージャパン 2017年3月\n",
    "- 『[**Effective Debugging**](https://www.oreilly.co.jp/books/9784873117997/)』オライリージャパン 2017年6月\n",
    "- 『[**スラスラわかるPython**](http://www.shoeisha.co.jp/book/detail/9784798151090)』翔泳社 2017年8月\n",
    "- 『[**PythonとJavaScriptではじめるデータビジュアライゼーション**](https://www.oreilly.co.jp/books/9784873118086/)』オライリージャパン 2017年8月\n",
    "- 『[**初めてのPerl 第7版**](https://www.oreilly.co.jp/books/9784873118246/)』オライリージャパン 2018年1月\n",
    "- 『[**Head First Python 第2版**](https://www.oreilly.co.jp/books/9784873118291/)』オライリージャパン 2018年3月\n",
    "- 『[**Pythonデータサイエンスハンドブック**](https://www.oreilly.co.jp/books/9784873118413/)』オライリージャパン 2018年5月\n",
    "- 『[**Pythonによるデータ分析入門 第2版**](https://www.oreilly.co.jp/books/9784873118451/)』オライリージャパン 2018年7月\n",
    "- 『[**Pythonによるあたらしいデータ分析の教科書**](https://www.shoeisha.co.jp/book/detail/9784798158341)』翔泳社 2018年9月\n",
    "- 『[**問題解決のPythonプログラミング**](https://www.oreilly.co.jp/books/9784873118512/)』オライリージャパン 2018年9月\n",
    "- 『[**エレガントなSciPy**](https://www.oreilly.co.jp/books/9784873118604/)』オライリージャパン 2018年11月\n",
    "- 『[**Python機械学習クックブック**](https://www.oreilly.co.jp/books/9784873118673/)』オライリージャパン 2018年12月\n",
    "- 『[**pandasクックブック**](http://www.asakura.co.jp/books/isbn/978-4-254-12242-8/)』朝倉書店 2019年2月\n",
    "- 『[**PythonによるWebスクレイピング 第2版**](https://www.oreilly.co.jp/books/9784873118710/)』オライリージャパン 2019年3月\n",
    "- 『[**Head First はじめてのプログラミング**](https://www.oreilly.co.jp/books/9784873118741/)』オライリージャパン 2019年4月\n",
    "- 『[**できる 仕事がはかどるPython自動処理 全部入り。**](https://book.impress.co.jp/books/1118101147)』インプレス 2019年5月\n",
    "- 『[**IPythonデータサイエンスクックブック 第2版**](https://www.oreilly.co.jp/books/9784873118543/)』オライリージャパン 2019年5月\n",
    "- 『[**Python計算機科学新教本**](https://www.oreilly.co.jp/books/9784873118819/)』オライリージャパン 2019年6月\n"
   ]
  },
  {
   "cell_type": "markdown",
   "metadata": {},
   "source": [
    "## We will talk about"
   ]
  },
  {
   "cell_type": "markdown",
   "metadata": {},
   "source": [
    "### ピタゴラスの定理"
   ]
  },
  {
   "cell_type": "markdown",
   "metadata": {},
   "source": [
    "直角三角形の斜辺の長さを$c$とし、それ以外の辺の長さを$a, b$とする。\n",
    "そのとき、\n",
    "\n",
    "\\begin{equation}\n",
    "a^{2} + b^{2} = c^{2}\n",
    "\\end{equation}\n",
    "\n",
    "が成り立つ。"
   ]
  },
  {
   "cell_type": "markdown",
   "metadata": {},
   "source": [
    "### ピタゴラス数"
   ]
  },
  {
   "cell_type": "markdown",
   "metadata": {},
   "source": [
    "$a^{2} + b^{2} = c^{2}$が成り立つ自然数の組$(a, b, c)$を **ピタゴラス数** と呼ぶ。"
   ]
  },
  {
   "cell_type": "markdown",
   "metadata": {},
   "source": [
    "### ピタゴラス数を計算しよう：根性編"
   ]
  },
  {
   "cell_type": "code",
   "execution_count": 1,
   "metadata": {},
   "outputs": [
    {
     "name": "stdout",
     "output_type": "stream",
     "text": [
      "3 4 5\n",
      "4 3 5\n",
      "5 12 13\n",
      "6 8 10\n",
      "8 6 10\n",
      "8 15 17\n",
      "9 12 15\n",
      "12 5 13\n",
      "12 9 15\n",
      "15 8 17\n"
     ]
    }
   ],
   "source": [
    "from itertools import product\n",
    "\n",
    "for a, b, c in product(range(1, 20), repeat=3):\n",
    "    if a ** 2 + b ** 2 == c ** 2:\n",
    "        print(a, b, c)"
   ]
  },
  {
   "cell_type": "markdown",
   "metadata": {},
   "source": [
    "### 原始ピタゴラス数\n",
    "\n",
    "自然数の組$(a, b, c)$がピタゴラス数ならば、任意の自然数$n$に対して$(na, nb, nc)$もまたピタゴラス数である（証明せよ！）。\n",
    "\n",
    "互いに素であるピタゴラス数を**原始ピタゴラス数**と呼ぶ。"
   ]
  },
  {
   "cell_type": "markdown",
   "metadata": {},
   "source": [
    "### 原始ピタゴラス数を計算しよう\n",
    "\n",
    "- a, b, cはそれぞれ違う数である\n",
    "- a, b, c は互いに素である"
   ]
  },
  {
   "cell_type": "code",
   "execution_count": 2,
   "metadata": {},
   "outputs": [
    {
     "name": "stdout",
     "output_type": "stream",
     "text": [
      "3 4 5\n",
      "5 12 13\n",
      "8 15 17\n"
     ]
    }
   ],
   "source": [
    "from functools import reduce\n",
    "from itertools import combinations\n",
    "from math import gcd\n",
    "\n",
    "\n",
    "for a, b, c in combinations(range(1, 20), 3):\n",
    "    if a ** 2 + b ** 2 == c ** 2 and reduce(gcd, (a, b, c)) == 1:\n",
    "        print(a, b, c)"
   ]
  },
  {
   "cell_type": "markdown",
   "metadata": {},
   "source": [
    "### 計算時間を比較してみよう"
   ]
  },
  {
   "cell_type": "code",
   "execution_count": 3,
   "metadata": {},
   "outputs": [
    {
     "name": "stdout",
     "output_type": "stream",
     "text": [
      "86.1 ms ± 1.06 ms per loop (mean ± std. dev. of 7 runs, 10 loops each)\n",
      "13.6 ms ± 165 µs per loop (mean ± std. dev. of 7 runs, 100 loops each)\n"
     ]
    }
   ],
   "source": [
    "def pythagorean_triple(n: int):\n",
    "    \"\"\"根性で計算\"\"\"\n",
    "    for a, b, c in product(range(1, n), repeat=3):\n",
    "        if a ** 2 + b ** 2 == c ** 2:\n",
    "            yield a, b, c\n",
    "            \n",
    "def primitive_pythagorean_triple(n: int):\n",
    "    \"\"\"少し工夫をする\"\"\"\n",
    "    for a, b, c in combinations(range(1, 50), 3):\n",
    "        if a ** 2 + b ** 2 == c ** 2 and reduce(gcd, (a, b, c)) == 1:\n",
    "            yield a, b, c\n",
    "    \n",
    "    \n",
    "%timeit tuple((a, b, c) for a, b, c in pythagorean_triple(50))\n",
    "\n",
    "%timeit tuple((a, b, c) for a, b, c in primitive_pythagorean_triple(50))"
   ]
  },
  {
   "cell_type": "markdown",
   "metadata": {},
   "source": [
    "### ユークリッドの互除法\n",
    "\n",
    "整数$a, b$において、$a$を$b$で割ったあまりを$r$とすると、$a,b$の最大公約数は$b, r$の最大公約数に等しい。"
   ]
  },
  {
   "cell_type": "code",
   "execution_count": 4,
   "metadata": {},
   "outputs": [
    {
     "data": {
      "text/plain": [
       "21"
      ]
     },
     "execution_count": 4,
     "metadata": {},
     "output_type": "execute_result"
    }
   ],
   "source": [
    "def my_gcd(a: int, b: int):\n",
    "    \"\"\"定理のステートメントから実装する\"\"\"\n",
    "    if a < b:\n",
    "        a, b = b, a\n",
    "    while b != 0:\n",
    "        a, b = b, a % b\n",
    "    return a\n",
    "\n",
    "my_gcd(1071, 1029)"
   ]
  },
  {
   "cell_type": "code",
   "execution_count": 5,
   "metadata": {},
   "outputs": [
    {
     "data": {
      "text/plain": [
       "21"
      ]
     },
     "execution_count": 5,
     "metadata": {},
     "output_type": "execute_result"
    }
   ],
   "source": [
    "def my_gcd_recursive(a: int, b: int):\n",
    "    \"\"\"再帰版\"\"\"\n",
    "    if a < b:\n",
    "        return my_gcd_recursive(b, a)\n",
    "    if b == 0:\n",
    "        return a\n",
    "    else:\n",
    "        return my_gcd_recursive(b, a % b)\n",
    "    \n",
    "\n",
    "my_gcd_recursive(1071, 1029)"
   ]
  },
  {
   "cell_type": "markdown",
   "metadata": {},
   "source": [
    "### ユークリッドの定理（素数）\n",
    "\n",
    "素数は無限に存在する。"
   ]
  },
  {
   "cell_type": "markdown",
   "metadata": {},
   "source": [
    "### 証明\n",
    "\n",
    "素数は有限個あると仮定し、それを$p_{1}, p_{2}, \\dots,  p_{n}$とする。\n",
    "また、$P = \\displaystyle \\prod^{n}_{i=1}p_{i} + 1$とする。\n",
    "このとき、$P$は素数が合成数のいずれかである。\n",
    "$P$が素数の場合、定義から$P$は$p_{1}, p_{2}, \\dots,  p_{n}$のいずれよりも大きい素数である。\n",
    "$P$が合成数である場合、ある素数$q$で割り切れるが、$P$の定義から$P$は$p_{1}, p_{2}, \\dots,  p_{n}$で割り切れるので$P+1$を割り切ることができない。よって$q$は$p_{1}, p_{2}, \\dots,  p_{n}$とは異なる素数である。\n",
    "よって、$P$が素数、合成数のいずれであっても$p_{1}, p_{2}, \\dots,  p_{n}$とは異なる新たなる素数が得られる。\n",
    "以上より、素数は無限に存在する。"
   ]
  },
  {
   "cell_type": "markdown",
   "metadata": {},
   "source": [
    "### 証明から素数を作ってみよう"
   ]
  },
  {
   "cell_type": "code",
   "execution_count": 6,
   "metadata": {},
   "outputs": [
    {
     "name": "stdout",
     "output_type": "stream",
     "text": [
      "3 is prime.\n",
      "7 is prime.\n",
      "43 is prime.\n",
      "13 is prime.\n",
      "53 is prime.\n",
      "5 is prime.\n",
      "6221671 is prime.\n",
      "38709183810571 is prime.\n",
      "139 is prime.\n",
      "2801 is prime.\n",
      "primes from proof: [2, 3, 5, 7, 13, 43, 53, 139, 2801, 6221671, 38709183810571]\n"
     ]
    }
   ],
   "source": [
    "from sympy import prod\n",
    "from sympy.ntheory import factorint, isprime\n",
    "\n",
    "primes = [2]\n",
    "\n",
    "for _ in range(10):\n",
    "    P = prod(primes) + 1\n",
    "    if isprime(P):\n",
    "        print(f\"{P} is prime.\")\n",
    "        primes.append(P)\n",
    "    else:\n",
    "        new_prime = min(list(set(factorint(P, multiple=True)) - set(primes)))\n",
    "        print(f\"{new_prime} is prime.\")\n",
    "        primes.append(new_prime)\n",
    "else:\n",
    "    primes.sort()\n",
    "    print(f\"primes from proof: {primes}\")"
   ]
  },
  {
   "cell_type": "markdown",
   "metadata": {},
   "source": [
    "### 2個の平方数の和で表せる素数"
   ]
  },
  {
   "cell_type": "markdown",
   "metadata": {},
   "source": [
    "### Dirichletの算術級数定理"
   ]
  },
  {
   "cell_type": "markdown",
   "metadata": {},
   "source": [
    " ## Summary"
   ]
  }
 ],
 "metadata": {
  "kernelspec": {
   "display_name": "Python 3",
   "language": "python",
   "name": "python3"
  },
  "language_info": {
   "codemirror_mode": {
    "name": "ipython",
    "version": 3
   },
   "file_extension": ".py",
   "mimetype": "text/x-python",
   "name": "python",
   "nbconvert_exporter": "python",
   "pygments_lexer": "ipython3",
   "version": "3.7.3"
  }
 },
 "nbformat": 4,
 "nbformat_minor": 2
}
