{
 "cells": [
  {
   "cell_type": "markdown",
   "metadata": {},
   "source": [
    "# Elementary Number Theory with Python（Pythonで楽しむ初等整数論）"
   ]
  },
  {
   "cell_type": "markdown",
   "metadata": {},
   "source": [
    "## Hayao Suzuki\n",
    "\n",
    "- PyCon mini Hiroshima 2019 at Ota City Industrial Plaza\n",
    "- October 12, 2019\n",
    "- #pyconhiro"
   ]
  },
  {
   "cell_type": "markdown",
   "metadata": {},
   "source": [
    "## About Me （お前誰よ）\n",
    "\n",
    "- Name: Hayao Suzuki（鈴木　駿） (@CardinalXaro)\n",
    "- Blog: https://xaro.hatenablog.jp/\n",
    "- Major: Mathematics (Combinatorics, Number Theory)\n",
    "- Degree: 修士（工学）、電気通信大学\n",
    "- Work: Python Programmer at iRidge, Inc."
   ]
  },
  {
   "cell_type": "markdown",
   "metadata": {},
   "source": [
    "## Reviewed Technical Books\n",
    "\n",
    "- 『[**Effective Python**](https://www.oreilly.co.jp/books/9784873117560/)』オライリージャパン 2016年1月\n",
    "- 『[**アルゴリズムクイックリファレンス 第2版**](https://www.oreilly.co.jp/books/9784873117850/)』オライリージャパン 2016年12月\n",
    "- 『[**初めてのPHP**](https://www.oreilly.co.jp/books/9784873117935/)』オライリージャパン 2017年3月\n",
    "- 『[**Effective Debugging**](https://www.oreilly.co.jp/books/9784873117997/)』オライリージャパン 2017年6月\n",
    "- 『[**スラスラわかるPython**](http://www.shoeisha.co.jp/book/detail/9784798151090)』翔泳社 2017年8月\n",
    "- 『[**PythonとJavaScriptではじめるデータビジュアライゼーション**](https://www.oreilly.co.jp/books/9784873118086/)』オライリージャパン 2017年8月\n",
    "- 『[**初めてのPerl 第7版**](https://www.oreilly.co.jp/books/9784873118246/)』オライリージャパン 2018年1月\n",
    "- 『[**Head First Python 第2版**](https://www.oreilly.co.jp/books/9784873118291/)』オライリージャパン 2018年3月\n",
    "- 『[**Pythonデータサイエンスハンドブック**](https://www.oreilly.co.jp/books/9784873118413/)』オライリージャパン 2018年5月\n",
    "- 『[**Pythonによるデータ分析入門 第2版**](https://www.oreilly.co.jp/books/9784873118451/)』オライリージャパン 2018年7月\n",
    "- 『[**Pythonによるあたらしいデータ分析の教科書**](https://www.shoeisha.co.jp/book/detail/9784798158341)』翔泳社 2018年9月\n",
    "- 『[**問題解決のPythonプログラミング**](https://www.oreilly.co.jp/books/9784873118512/)』オライリージャパン 2018年9月\n",
    "- 『[**エレガントなSciPy**](https://www.oreilly.co.jp/books/9784873118604/)』オライリージャパン 2018年11月\n",
    "- 『[**Python機械学習クックブック**](https://www.oreilly.co.jp/books/9784873118673/)』オライリージャパン 2018年12月\n",
    "- 『[**pandasクックブック**](http://www.asakura.co.jp/books/isbn/978-4-254-12242-8/)』朝倉書店 2019年2月\n",
    "- 『[**PythonによるWebスクレイピング 第2版**](https://www.oreilly.co.jp/books/9784873118710/)』オライリージャパン 2019年3月\n",
    "- 『[**Head First はじめてのプログラミング**](https://www.oreilly.co.jp/books/9784873118741/)』オライリージャパン 2019年4月\n",
    "- 『[**できる 仕事がはかどるPython自動処理 全部入り。**](https://book.impress.co.jp/books/1118101147)』インプレス 2019年5月\n",
    "- 『[**IPythonデータサイエンスクックブック 第2版**](https://www.oreilly.co.jp/books/9784873118543/)』オライリージャパン 2019年5月\n",
    "- 『[**Python計算機科学新教本**](https://www.oreilly.co.jp/books/9784873118819/)』オライリージャパン 2019年6月\n"
   ]
  },
  {
   "cell_type": "markdown",
   "metadata": {},
   "source": [
    "## We will talk about"
   ]
  },
  {
   "cell_type": "markdown",
   "metadata": {},
   "source": [
    "## From Theorem"
   ]
  },
  {
   "cell_type": "markdown",
   "metadata": {},
   "source": [
    "### Pythagorean triple"
   ]
  },
  {
   "cell_type": "markdown",
   "metadata": {},
   "source": [
    "## From Proof of Theorems"
   ]
  },
  {
   "cell_type": "markdown",
   "metadata": {},
   "source": [
    "### Euclidean Algorithm"
   ]
  },
  {
   "cell_type": "markdown",
   "metadata": {},
   "source": [
    "### Euclid's theorem"
   ]
  },
  {
   "cell_type": "markdown",
   "metadata": {},
   "source": [
    "### Dirichlet's theorem on arithmetic progressions"
   ]
  },
  {
   "cell_type": "markdown",
   "metadata": {},
   "source": [
    " ## Summary"
   ]
  }
 ],
 "metadata": {
  "kernelspec": {
   "display_name": "Python 3",
   "language": "python",
   "name": "python3"
  },
  "language_info": {
   "codemirror_mode": {
    "name": "ipython",
    "version": 3
   },
   "file_extension": ".py",
   "mimetype": "text/x-python",
   "name": "python",
   "nbconvert_exporter": "python",
   "pygments_lexer": "ipython3",
   "version": "3.7.3"
  }
 },
 "nbformat": 4,
 "nbformat_minor": 2
}
